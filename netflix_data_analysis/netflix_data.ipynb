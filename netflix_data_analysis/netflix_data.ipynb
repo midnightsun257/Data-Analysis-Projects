{
 "cells": [
  {
   "cell_type": "code",
   "execution_count": 1,
   "metadata": {},
   "outputs": [],
   "source": [
    "import pandas as pd\n",
    "import numpy as np"
   ]
  },
  {
   "cell_type": "code",
   "execution_count": 2,
   "metadata": {},
   "outputs": [
    {
     "data": {
      "text/html": [
       "<div>\n",
       "<style scoped>\n",
       "    .dataframe tbody tr th:only-of-type {\n",
       "        vertical-align: middle;\n",
       "    }\n",
       "\n",
       "    .dataframe tbody tr th {\n",
       "        vertical-align: top;\n",
       "    }\n",
       "\n",
       "    .dataframe thead th {\n",
       "        text-align: right;\n",
       "    }\n",
       "</style>\n",
       "<table border=\"1\" class=\"dataframe\">\n",
       "  <thead>\n",
       "    <tr style=\"text-align: right;\">\n",
       "      <th></th>\n",
       "      <th>show_id</th>\n",
       "      <th>type</th>\n",
       "      <th>title</th>\n",
       "      <th>director</th>\n",
       "      <th>cast</th>\n",
       "      <th>country</th>\n",
       "      <th>date_added</th>\n",
       "      <th>release_year</th>\n",
       "      <th>rating</th>\n",
       "      <th>duration</th>\n",
       "      <th>listed_in</th>\n",
       "      <th>description</th>\n",
       "    </tr>\n",
       "  </thead>\n",
       "  <tbody>\n",
       "    <tr>\n",
       "      <th>0</th>\n",
       "      <td>s1</td>\n",
       "      <td>Movie</td>\n",
       "      <td>Dick Johnson Is Dead</td>\n",
       "      <td>Kirsten Johnson</td>\n",
       "      <td>NaN</td>\n",
       "      <td>United States</td>\n",
       "      <td>9/25/2021</td>\n",
       "      <td>2020</td>\n",
       "      <td>PG-13</td>\n",
       "      <td>90 min</td>\n",
       "      <td>Documentaries</td>\n",
       "      <td>As her father nears the end of his life, filmm...</td>\n",
       "    </tr>\n",
       "    <tr>\n",
       "      <th>1</th>\n",
       "      <td>s2</td>\n",
       "      <td>TV Show</td>\n",
       "      <td>Blood &amp; Water</td>\n",
       "      <td>NaN</td>\n",
       "      <td>Ama Qamata, Khosi Ngema, Gail Mabalane, Thaban...</td>\n",
       "      <td>South Africa</td>\n",
       "      <td>9/24/2021</td>\n",
       "      <td>2021</td>\n",
       "      <td>TV-MA</td>\n",
       "      <td>2 Seasons</td>\n",
       "      <td>International TV Shows, TV Dramas, TV Mysteries</td>\n",
       "      <td>After crossing paths at a party, a Cape Town t...</td>\n",
       "    </tr>\n",
       "    <tr>\n",
       "      <th>2</th>\n",
       "      <td>s3</td>\n",
       "      <td>TV Show</td>\n",
       "      <td>Ganglands</td>\n",
       "      <td>Julien Leclercq</td>\n",
       "      <td>Sami Bouajila, Tracy Gotoas, Samuel Jouy, Nabi...</td>\n",
       "      <td>NaN</td>\n",
       "      <td>9/24/2021</td>\n",
       "      <td>2021</td>\n",
       "      <td>TV-MA</td>\n",
       "      <td>1 Season</td>\n",
       "      <td>Crime TV Shows, International TV Shows, TV Act...</td>\n",
       "      <td>To protect his family from a powerful drug lor...</td>\n",
       "    </tr>\n",
       "    <tr>\n",
       "      <th>3</th>\n",
       "      <td>s4</td>\n",
       "      <td>TV Show</td>\n",
       "      <td>Jailbirds New Orleans</td>\n",
       "      <td>NaN</td>\n",
       "      <td>NaN</td>\n",
       "      <td>NaN</td>\n",
       "      <td>9/24/2021</td>\n",
       "      <td>2021</td>\n",
       "      <td>TV-MA</td>\n",
       "      <td>1 Season</td>\n",
       "      <td>Docuseries, Reality TV</td>\n",
       "      <td>Feuds, flirtations and toilet talk go down amo...</td>\n",
       "    </tr>\n",
       "    <tr>\n",
       "      <th>4</th>\n",
       "      <td>s5</td>\n",
       "      <td>TV Show</td>\n",
       "      <td>Kota Factory</td>\n",
       "      <td>NaN</td>\n",
       "      <td>Mayur More, Jitendra Kumar, Ranjan Raj, Alam K...</td>\n",
       "      <td>India</td>\n",
       "      <td>9/24/2021</td>\n",
       "      <td>2021</td>\n",
       "      <td>TV-MA</td>\n",
       "      <td>2 Seasons</td>\n",
       "      <td>International TV Shows, Romantic TV Shows, TV ...</td>\n",
       "      <td>In a city of coaching centers known to train I...</td>\n",
       "    </tr>\n",
       "  </tbody>\n",
       "</table>\n",
       "</div>"
      ],
      "text/plain": [
       "  show_id     type                  title         director  \\\n",
       "0      s1    Movie   Dick Johnson Is Dead  Kirsten Johnson   \n",
       "1      s2  TV Show          Blood & Water              NaN   \n",
       "2      s3  TV Show              Ganglands  Julien Leclercq   \n",
       "3      s4  TV Show  Jailbirds New Orleans              NaN   \n",
       "4      s5  TV Show           Kota Factory              NaN   \n",
       "\n",
       "                                                cast        country  \\\n",
       "0                                                NaN  United States   \n",
       "1  Ama Qamata, Khosi Ngema, Gail Mabalane, Thaban...   South Africa   \n",
       "2  Sami Bouajila, Tracy Gotoas, Samuel Jouy, Nabi...            NaN   \n",
       "3                                                NaN            NaN   \n",
       "4  Mayur More, Jitendra Kumar, Ranjan Raj, Alam K...          India   \n",
       "\n",
       "  date_added  release_year rating   duration  \\\n",
       "0  9/25/2021          2020  PG-13     90 min   \n",
       "1  9/24/2021          2021  TV-MA  2 Seasons   \n",
       "2  9/24/2021          2021  TV-MA   1 Season   \n",
       "3  9/24/2021          2021  TV-MA   1 Season   \n",
       "4  9/24/2021          2021  TV-MA  2 Seasons   \n",
       "\n",
       "                                           listed_in  \\\n",
       "0                                      Documentaries   \n",
       "1    International TV Shows, TV Dramas, TV Mysteries   \n",
       "2  Crime TV Shows, International TV Shows, TV Act...   \n",
       "3                             Docuseries, Reality TV   \n",
       "4  International TV Shows, Romantic TV Shows, TV ...   \n",
       "\n",
       "                                         description  \n",
       "0  As her father nears the end of his life, filmm...  \n",
       "1  After crossing paths at a party, a Cape Town t...  \n",
       "2  To protect his family from a powerful drug lor...  \n",
       "3  Feuds, flirtations and toilet talk go down amo...  \n",
       "4  In a city of coaching centers known to train I...  "
      ]
     },
     "execution_count": 2,
     "metadata": {},
     "output_type": "execute_result"
    }
   ],
   "source": [
    "netflixdf= pd.read_csv('C:/Users/Ankita Mishra/Desktop/sql/netflix_titles/netflix_titles.csv')\n",
    "netflixdf.head()"
   ]
  },
  {
   "cell_type": "code",
   "execution_count": 3,
   "metadata": {},
   "outputs": [
    {
     "name": "stdout",
     "output_type": "stream",
     "text": [
      "<class 'pandas.core.frame.DataFrame'>\n",
      "RangeIndex: 8807 entries, 0 to 8806\n",
      "Data columns (total 12 columns):\n",
      " #   Column        Non-Null Count  Dtype \n",
      "---  ------        --------------  ----- \n",
      " 0   show_id       8807 non-null   object\n",
      " 1   type          8807 non-null   object\n",
      " 2   title         8807 non-null   object\n",
      " 3   director      6173 non-null   object\n",
      " 4   cast          7982 non-null   object\n",
      " 5   country       7976 non-null   object\n",
      " 6   date_added    8797 non-null   object\n",
      " 7   release_year  8807 non-null   int64 \n",
      " 8   rating        8803 non-null   object\n",
      " 9   duration      8804 non-null   object\n",
      " 10  listed_in     8807 non-null   object\n",
      " 11  description   8807 non-null   object\n",
      "dtypes: int64(1), object(11)\n",
      "memory usage: 825.8+ KB\n"
     ]
    }
   ],
   "source": [
    "netflixdf.shape\n",
    "netflixdf.info()"
   ]
  },
  {
   "cell_type": "markdown",
   "metadata": {},
   "source": [
    "# Data Cleaning"
   ]
  },
  {
   "cell_type": "markdown",
   "metadata": {},
   "source": [
    "First we check for duplicated values and drop any duplicated columns. The find the number of nulls in each column."
   ]
  },
  {
   "cell_type": "code",
   "execution_count": 4,
   "metadata": {},
   "outputs": [
    {
     "data": {
      "text/plain": [
       "show_id            0\n",
       "type               0\n",
       "title              0\n",
       "director        2634\n",
       "cast             825\n",
       "country          831\n",
       "date_added        10\n",
       "release_year       0\n",
       "rating             4\n",
       "duration           3\n",
       "listed_in          0\n",
       "description        0\n",
       "dtype: int64"
      ]
     },
     "execution_count": 4,
     "metadata": {},
     "output_type": "execute_result"
    }
   ],
   "source": [
    "# check for duplicates and nulls\n",
    "netflixdf.duplicated().value_counts()\n",
    "netflixdf.isnull().sum()"
   ]
  },
  {
   "cell_type": "markdown",
   "metadata": {},
   "source": [
    "The director column has a lot of nulls so we attempt to populate it by finding a relationship between the director column and cast column.\n"
   ]
  },
  {
   "cell_type": "code",
   "execution_count": 5,
   "metadata": {},
   "outputs": [],
   "source": [
    "netflixdf['director_cast'] = netflixdf['director'] + '---'+ netflixdf['cast']\n",
    "\n",
    "# Count the occurrences of each 'director_cast' combination\n",
    "director_cast_counts = netflixdf['director_cast'].value_counts()\n",
    "\n",
    "# Filter the combinations with more than one occurrence\n",
    "director_cast_counts = director_cast_counts[director_cast_counts > 1]\n",
    "\n",
    "for director_cast, director_cast_count in director_cast_counts.iteritems():\n",
    "    director, cast = director_cast.split('---')\n",
    "    netflixdf.loc[(netflixdf['director'].isnull()) & (netflixdf['cast'] == cast), 'director'] = director\n",
    "\n",
    "# Fill the remaining NULL values in 'director' with 'Not Given'\n",
    "netflixdf['director'].fillna('Not Given', inplace=True)\n"
   ]
  },
  {
   "cell_type": "markdown",
   "metadata": {},
   "source": [
    "Finding a similar relationship between director and country to populate the nulls in the country column."
   ]
  },
  {
   "cell_type": "code",
   "execution_count": 6,
   "metadata": {},
   "outputs": [
    {
     "data": {
      "text/html": [
       "<div>\n",
       "<style scoped>\n",
       "    .dataframe tbody tr th:only-of-type {\n",
       "        vertical-align: middle;\n",
       "    }\n",
       "\n",
       "    .dataframe tbody tr th {\n",
       "        vertical-align: top;\n",
       "    }\n",
       "\n",
       "    .dataframe thead th {\n",
       "        text-align: right;\n",
       "    }\n",
       "</style>\n",
       "<table border=\"1\" class=\"dataframe\">\n",
       "  <thead>\n",
       "    <tr style=\"text-align: right;\">\n",
       "      <th></th>\n",
       "      <th>show_id</th>\n",
       "      <th>type</th>\n",
       "      <th>title</th>\n",
       "      <th>director</th>\n",
       "      <th>cast</th>\n",
       "      <th>country</th>\n",
       "      <th>date_added</th>\n",
       "      <th>release_year</th>\n",
       "      <th>rating</th>\n",
       "      <th>duration</th>\n",
       "      <th>listed_in</th>\n",
       "      <th>description</th>\n",
       "    </tr>\n",
       "  </thead>\n",
       "  <tbody>\n",
       "    <tr>\n",
       "      <th>0</th>\n",
       "      <td>s1</td>\n",
       "      <td>Movie</td>\n",
       "      <td>Dick Johnson Is Dead</td>\n",
       "      <td>Kirsten Johnson</td>\n",
       "      <td>NaN</td>\n",
       "      <td>United States</td>\n",
       "      <td>9/25/2021</td>\n",
       "      <td>2020</td>\n",
       "      <td>PG-13</td>\n",
       "      <td>90 min</td>\n",
       "      <td>Documentaries</td>\n",
       "      <td>As her father nears the end of his life, filmm...</td>\n",
       "    </tr>\n",
       "    <tr>\n",
       "      <th>1</th>\n",
       "      <td>s2</td>\n",
       "      <td>TV Show</td>\n",
       "      <td>Blood &amp; Water</td>\n",
       "      <td>Not Given</td>\n",
       "      <td>Ama Qamata, Khosi Ngema, Gail Mabalane, Thaban...</td>\n",
       "      <td>South Africa</td>\n",
       "      <td>9/24/2021</td>\n",
       "      <td>2021</td>\n",
       "      <td>TV-MA</td>\n",
       "      <td>2 Seasons</td>\n",
       "      <td>International TV Shows, TV Dramas, TV Mysteries</td>\n",
       "      <td>After crossing paths at a party, a Cape Town t...</td>\n",
       "    </tr>\n",
       "    <tr>\n",
       "      <th>2</th>\n",
       "      <td>s3</td>\n",
       "      <td>TV Show</td>\n",
       "      <td>Ganglands</td>\n",
       "      <td>Julien Leclercq</td>\n",
       "      <td>Sami Bouajila, Tracy Gotoas, Samuel Jouy, Nabi...</td>\n",
       "      <td>France</td>\n",
       "      <td>9/24/2021</td>\n",
       "      <td>2021</td>\n",
       "      <td>TV-MA</td>\n",
       "      <td>1 Season</td>\n",
       "      <td>Crime TV Shows, International TV Shows, TV Act...</td>\n",
       "      <td>To protect his family from a powerful drug lor...</td>\n",
       "    </tr>\n",
       "    <tr>\n",
       "      <th>3</th>\n",
       "      <td>s4</td>\n",
       "      <td>TV Show</td>\n",
       "      <td>Jailbirds New Orleans</td>\n",
       "      <td>Not Given</td>\n",
       "      <td>NaN</td>\n",
       "      <td>United States</td>\n",
       "      <td>9/24/2021</td>\n",
       "      <td>2021</td>\n",
       "      <td>TV-MA</td>\n",
       "      <td>1 Season</td>\n",
       "      <td>Docuseries, Reality TV</td>\n",
       "      <td>Feuds, flirtations and toilet talk go down amo...</td>\n",
       "    </tr>\n",
       "    <tr>\n",
       "      <th>4</th>\n",
       "      <td>s5</td>\n",
       "      <td>TV Show</td>\n",
       "      <td>Kota Factory</td>\n",
       "      <td>Not Given</td>\n",
       "      <td>Mayur More, Jitendra Kumar, Ranjan Raj, Alam K...</td>\n",
       "      <td>India</td>\n",
       "      <td>9/24/2021</td>\n",
       "      <td>2021</td>\n",
       "      <td>TV-MA</td>\n",
       "      <td>2 Seasons</td>\n",
       "      <td>International TV Shows, Romantic TV Shows, TV ...</td>\n",
       "      <td>In a city of coaching centers known to train I...</td>\n",
       "    </tr>\n",
       "  </tbody>\n",
       "</table>\n",
       "</div>"
      ],
      "text/plain": [
       "  show_id     type                  title         director  \\\n",
       "0      s1    Movie   Dick Johnson Is Dead  Kirsten Johnson   \n",
       "1      s2  TV Show          Blood & Water        Not Given   \n",
       "2      s3  TV Show              Ganglands  Julien Leclercq   \n",
       "3      s4  TV Show  Jailbirds New Orleans        Not Given   \n",
       "4      s5  TV Show           Kota Factory        Not Given   \n",
       "\n",
       "                                                cast        country  \\\n",
       "0                                                NaN  United States   \n",
       "1  Ama Qamata, Khosi Ngema, Gail Mabalane, Thaban...   South Africa   \n",
       "2  Sami Bouajila, Tracy Gotoas, Samuel Jouy, Nabi...         France   \n",
       "3                                                NaN  United States   \n",
       "4  Mayur More, Jitendra Kumar, Ranjan Raj, Alam K...          India   \n",
       "\n",
       "  date_added  release_year rating   duration  \\\n",
       "0  9/25/2021          2020  PG-13     90 min   \n",
       "1  9/24/2021          2021  TV-MA  2 Seasons   \n",
       "2  9/24/2021          2021  TV-MA   1 Season   \n",
       "3  9/24/2021          2021  TV-MA   1 Season   \n",
       "4  9/24/2021          2021  TV-MA  2 Seasons   \n",
       "\n",
       "                                           listed_in  \\\n",
       "0                                      Documentaries   \n",
       "1    International TV Shows, TV Dramas, TV Mysteries   \n",
       "2  Crime TV Shows, International TV Shows, TV Act...   \n",
       "3                             Docuseries, Reality TV   \n",
       "4  International TV Shows, Romantic TV Shows, TV ...   \n",
       "\n",
       "                                         description  \n",
       "0  As her father nears the end of his life, filmm...  \n",
       "1  After crossing paths at a party, a Cape Town t...  \n",
       "2  To protect his family from a powerful drug lor...  \n",
       "3  Feuds, flirtations and toilet talk go down amo...  \n",
       "4  In a city of coaching centers known to train I...  "
      ]
     },
     "execution_count": 6,
     "metadata": {},
     "output_type": "execute_result"
    }
   ],
   "source": [
    "netflixdf['director_country'] = netflixdf['director'] + '---'+ netflixdf['country']\n",
    "director_country_counts = netflixdf['director_country'].value_counts()\n",
    "director_cast_counts = director_cast_counts[director_cast_counts > 1]\n",
    "\n",
    "for director_country, director_country_count in director_country_counts.iteritems():\n",
    "    director, country = director_country.split('---')\n",
    "    netflixdf.loc[(netflixdf['country'].isnull()) & (netflixdf['director'] == director), 'country'] = country\n",
    "    \n",
    "netflixdf['country'].fillna('Not Given', inplace=True)\n",
    "\n",
    "netflixdf.drop(columns=['director_cast', 'director_country'], inplace=True)\n",
    "netflixdf.head()\n"
   ]
  },
  {
   "cell_type": "markdown",
   "metadata": {},
   "source": [
    "date_added, rating and duration have an insignificant number of nulls so those rows can be dropped from the dataframe without causing much difference to our analysis."
   ]
  },
  {
   "cell_type": "code",
   "execution_count": 7,
   "metadata": {
    "scrolled": true
   },
   "outputs": [
    {
     "name": "stdout",
     "output_type": "stream",
     "text": [
      "     show_id     type                                              title  \\\n",
      "5541   s5542    Movie                                    Louis C.K. 2017   \n",
      "5794   s5795    Movie                              Louis C.K.: Hilarious   \n",
      "5813   s5814    Movie               Louis C.K.: Live at the Comedy Store   \n",
      "5989   s5990    Movie  13TH: A Conversation with Oprah Winfrey & Ava ...   \n",
      "6066   s6067  TV Show        A Young Doctor's Notebook and Other Stories   \n",
      "6174   s6175  TV Show                    Anthony Bourdain: Parts Unknown   \n",
      "6795   s6796  TV Show                                            Frasier   \n",
      "6806   s6807  TV Show                                            Friends   \n",
      "6827   s6828  TV Show                  Gargantia on the Verdurous Planet   \n",
      "6901   s6902  TV Show                                    Gunslinger Girl   \n",
      "7196   s7197  TV Show                                           Kikoriki   \n",
      "7254   s7255  TV Show                                La Familia P. Luche   \n",
      "7312   s7313  TV Show                                       Little Lunch   \n",
      "7406   s7407  TV Show                                              Maron   \n",
      "7537   s7538    Movie                               My Honor Was Loyalty   \n",
      "7847   s7848  TV Show                                       Red vs. Blue   \n",
      "8182   s8183  TV Show                       The Adventures of Figaro Pho   \n",
      "\n",
      "             director                                               cast  \\\n",
      "5541       Louis C.K.                                         Louis C.K.   \n",
      "5794       Louis C.K.                                         Louis C.K.   \n",
      "5813       Louis C.K.                                         Louis C.K.   \n",
      "5989        Not Given                        Oprah Winfrey, Ava DuVernay   \n",
      "6066        Not Given  Daniel Radcliffe, Jon Hamm, Adam Godley, Chris...   \n",
      "6174        Not Given                                   Anthony Bourdain   \n",
      "6795        Not Given  Kelsey Grammer, Jane Leeves, David Hyde Pierce...   \n",
      "6806        Not Given  Jennifer Aniston, Courteney Cox, Lisa Kudrow, ...   \n",
      "6827        Not Given  Kaito Ishikawa, Hisako Kanemoto, Ai Kayano, Ka...   \n",
      "6901        Not Given  Yuuka Nanri, Kanako Mitsuhashi, Eri Sendai, Am...   \n",
      "7196        Not Given                                      Igor Dmitriev   \n",
      "7254        Not Given  Eugenio Derbez, Consuelo Duval, Luis Manuel Áv...   \n",
      "7312        Not Given  Flynn Curry, Olivia Deeble, Madison Lu, Oisín ...   \n",
      "7406        Not Given  Marc Maron, Judd Hirsch, Josh Brener, Nora Zeh...   \n",
      "7537  Alessandro Pepe  Leone Frisa, Paolo Vaccarino, Francesco Miglio...   \n",
      "7847        Not Given  Burnie Burns, Jason Saldaña, Gustavo Sorola, G...   \n",
      "8182        Not Given  Luke Jurevicius, Craig Behenna, Charlotte Haml...   \n",
      "\n",
      "             country date_added  release_year  rating    duration  \\\n",
      "5541   United States   4/4/2017          2017  74 min         NaN   \n",
      "5794   United States  9/16/2016          2010  84 min         NaN   \n",
      "5813   United States  8/15/2016          2015  66 min         NaN   \n",
      "5989   United States  1/26/2017          2017     NaN      37 min   \n",
      "6066  United Kingdom        NaN          2013   TV-MA   2 Seasons   \n",
      "6174   United States        NaN          2018   TV-PG   5 Seasons   \n",
      "6795   United States        NaN          2003   TV-PG  11 Seasons   \n",
      "6806   United States        NaN          2003   TV-14  10 Seasons   \n",
      "6827           Japan  12/1/2016          2013     NaN    1 Season   \n",
      "6901           Japan        NaN          2008   TV-14   2 Seasons   \n",
      "7196   United States        NaN          2010    TV-Y   2 Seasons   \n",
      "7254   United States        NaN          2012   TV-14   3 Seasons   \n",
      "7312       Australia   2/1/2018          2015     NaN    1 Season   \n",
      "7406   United States        NaN          2016   TV-MA   4 Seasons   \n",
      "7537           Italy   3/1/2017          2015     NaN     115 min   \n",
      "7847   United States        NaN          2015      NR  13 Seasons   \n",
      "8182       Australia        NaN          2015   TV-Y7   2 Seasons   \n",
      "\n",
      "                                              listed_in  \\\n",
      "5541                                             Movies   \n",
      "5794                                             Movies   \n",
      "5813                                             Movies   \n",
      "5989                                             Movies   \n",
      "6066           British TV Shows, TV Comedies, TV Dramas   \n",
      "6174                                         Docuseries   \n",
      "6795                     Classic & Cult TV, TV Comedies   \n",
      "6806                     Classic & Cult TV, TV Comedies   \n",
      "6827               Anime Series, International TV Shows   \n",
      "6901                       Anime Series, Crime TV Shows   \n",
      "7196                                           Kids' TV   \n",
      "7254  International TV Shows, Spanish-Language TV Sh...   \n",
      "7312                              Kids' TV, TV Comedies   \n",
      "7406                                        TV Comedies   \n",
      "7537                                             Dramas   \n",
      "7847  TV Action & Adventure, TV Comedies, TV Sci-Fi ...   \n",
      "8182                              Kids' TV, TV Comedies   \n",
      "\n",
      "                                            description  \n",
      "5541  Louis C.K. muses on religion, eternal love, gi...  \n",
      "5794  Emmy-winning comedy writer Louis C.K. brings h...  \n",
      "5813  The comic puts his trademark hilarious/thought...  \n",
      "5989  Oprah Winfrey sits down with director Ava DuVe...  \n",
      "6066  Set during the Russian Revolution, this comic ...  \n",
      "6174  This CNN original series has chef Anthony Bour...  \n",
      "6795  Frasier Crane is a snooty but lovable Seattle ...  \n",
      "6806  This hit sitcom follows the merry misadventure...  \n",
      "6827  After falling through a wormhole, a space-dwel...  \n",
      "6901  On the surface, the Social Welfare Agency appe...  \n",
      "7196  A wacky rabbit and his gang of animal pals hav...  \n",
      "7254  This irreverent sitcom featues Ludovico, Feder...  \n",
      "7312  Adopting a child's perspective, this show take...  \n",
      "7406  Marc Maron stars as Marc Maron, who interviews...  \n",
      "7537  Amid the chaos and horror of World War II, a c...  \n",
      "7847  This parody of first-person shooter games, mil...  \n",
      "8182  Imagine your worst fears, then multiply them: ...  \n"
     ]
    }
   ],
   "source": [
    "null_rows= netflixdf[(netflixdf['date_added'].isnull())|\n",
    "                    (netflixdf['rating'].isnull())|\n",
    "                    (netflixdf['duration'].isnull())]\n",
    "print(null_rows)"
   ]
  },
  {
   "cell_type": "code",
   "execution_count": 8,
   "metadata": {},
   "outputs": [],
   "source": [
    "netflixdf = netflixdf.dropna(subset=['date_added', 'rating', 'duration'])"
   ]
  },
  {
   "cell_type": "markdown",
   "metadata": {},
   "source": [
    "Check for duplicates and nulls and make sure each column has same number of records after the cleaning. Drop columns that we would not need for our analysis and visualization."
   ]
  },
  {
   "cell_type": "code",
   "execution_count": 9,
   "metadata": {},
   "outputs": [
    {
     "data": {
      "text/plain": [
       "show_id           0\n",
       "type              0\n",
       "title             0\n",
       "director          0\n",
       "cast            825\n",
       "country           0\n",
       "date_added        0\n",
       "release_year      0\n",
       "rating            0\n",
       "duration          0\n",
       "listed_in         0\n",
       "description       0\n",
       "dtype: int64"
      ]
     },
     "execution_count": 9,
     "metadata": {},
     "output_type": "execute_result"
    }
   ],
   "source": [
    "# check for duplicates and nulls\n",
    "netflixdf.duplicated().value_counts()\n",
    "netflixdf.isnull().sum()"
   ]
  },
  {
   "cell_type": "code",
   "execution_count": 10,
   "metadata": {},
   "outputs": [],
   "source": [
    "netflixdf= netflixdf.drop(columns=['cast', 'description'])"
   ]
  },
  {
   "cell_type": "code",
   "execution_count": 11,
   "metadata": {},
   "outputs": [
    {
     "name": "stdout",
     "output_type": "stream",
     "text": [
      "<class 'pandas.core.frame.DataFrame'>\n",
      "Int64Index: 8790 entries, 0 to 8806\n",
      "Data columns (total 10 columns):\n",
      " #   Column        Non-Null Count  Dtype \n",
      "---  ------        --------------  ----- \n",
      " 0   show_id       8790 non-null   object\n",
      " 1   type          8790 non-null   object\n",
      " 2   title         8790 non-null   object\n",
      " 3   director      8790 non-null   object\n",
      " 4   country       8790 non-null   object\n",
      " 5   date_added    8790 non-null   object\n",
      " 6   release_year  8790 non-null   int64 \n",
      " 7   rating        8790 non-null   object\n",
      " 8   duration      8790 non-null   object\n",
      " 9   listed_in     8790 non-null   object\n",
      "dtypes: int64(1), object(9)\n",
      "memory usage: 755.4+ KB\n"
     ]
    }
   ],
   "source": [
    "netflixdf.info()"
   ]
  },
  {
   "cell_type": "markdown",
   "metadata": {},
   "source": [
    "To make visualization easier, remove any additional countries after the first country in the country column."
   ]
  },
  {
   "cell_type": "code",
   "execution_count": 13,
   "metadata": {},
   "outputs": [],
   "source": [
    "split_country = netflixdf['country'].str.split(',', expand=True)\n",
    "\n",
    "# Create a new column 'country1' with the first split country\n",
    "netflixdf['country1'] = split_country[0]\n",
    "netflixdf.drop(columns=['country'], inplace=True)\n",
    "netflixdf.rename(columns={'country1': 'country'}, inplace=True)"
   ]
  },
  {
   "cell_type": "code",
   "execution_count": 18,
   "metadata": {},
   "outputs": [],
   "source": [
    "clean_netflixdf= netflixdf\n",
    "clean_netflixdf.to_csv('netflix_titles_filtered.csv')"
   ]
  },
  {
   "cell_type": "markdown",
   "metadata": {},
   "source": [
    "# Data Summary"
   ]
  },
  {
   "cell_type": "code",
   "execution_count": 16,
   "metadata": {},
   "outputs": [
    {
     "name": "stdout",
     "output_type": "stream",
     "text": [
      "Movie      6126\n",
      "TV Show    2664\n",
      "Name: type, dtype: int64 \n",
      "\n",
      "United States     3639\n",
      "India             1066\n",
      "United Kingdom     634\n",
      "Canada             273\n",
      "Not Given          272\n",
      "                  ... \n",
      "Syria                1\n",
      "Namibia              1\n",
      "Senegal              1\n",
      "Luxembourg           1\n",
      "Somalia              1\n",
      "Name: country, Length: 87, dtype: int64 \n",
      "\n",
      "TV-MA       3205\n",
      "TV-14       2157\n",
      "TV-PG        861\n",
      "R            799\n",
      "PG-13        490\n",
      "TV-Y7        333\n",
      "TV-Y         306\n",
      "PG           287\n",
      "TV-G         220\n",
      "NR            79\n",
      "G             41\n",
      "TV-Y7-FV       6\n",
      "NC-17          3\n",
      "UR             3\n",
      "Name: rating, dtype: int64 \n",
      "\n"
     ]
    },
    {
     "data": {
      "text/plain": [
       "Movie      0.696928\n",
       "TV Show    0.303072\n",
       "Name: type, dtype: float64"
      ]
     },
     "execution_count": 16,
     "metadata": {},
     "output_type": "execute_result"
    }
   ],
   "source": [
    "cols = [\"type\", \"country\", \"rating\"]\n",
    "\n",
    "for col in cols:\n",
    "    print(netflixdf[col].value_counts(), \"\\n\")\n",
    "netflixdf[\"type\"].value_counts(normalize=True)"
   ]
  },
  {
   "cell_type": "markdown",
   "metadata": {},
   "source": [
    "There are 86 unique countries and 272 records with the country Not Given, and 14 types of ratings with most them them being TV shows for mature adults (TV-MA). "
   ]
  },
  {
   "cell_type": "code",
   "execution_count": null,
   "metadata": {},
   "outputs": [],
   "source": []
  }
 ],
 "metadata": {
  "kernelspec": {
   "display_name": "Python 3",
   "language": "python",
   "name": "python3"
  },
  "language_info": {
   "codemirror_mode": {
    "name": "ipython",
    "version": 3
   },
   "file_extension": ".py",
   "mimetype": "text/x-python",
   "name": "python",
   "nbconvert_exporter": "python",
   "pygments_lexer": "ipython3",
   "version": "3.7.6"
  }
 },
 "nbformat": 4,
 "nbformat_minor": 4
}
