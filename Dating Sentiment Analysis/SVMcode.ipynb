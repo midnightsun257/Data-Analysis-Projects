{
 "cells": [
  {
   "cell_type": "code",
   "execution_count": 59,
   "metadata": {},
   "outputs": [],
   "source": [
    "import pandas as pd\n",
    "import numpy as np\n",
    "from sklearn.model_selection import train_test_split\n",
    "from sklearn.feature_extraction.text import TfidfVectorizer\n",
    "from sklearn import svm\n",
    "from sklearn.metrics import classification_report, confusion_matrix\n",
    "import matplotlib.pyplot as plt\n",
    "from collections import Counter\n",
    "import seaborn as sns"
   ]
  },
  {
   "cell_type": "code",
   "execution_count": 25,
   "metadata": {},
   "outputs": [],
   "source": [
    "# Define the directory\n",
    "directory = \"datasets/\"\n",
    "\n",
    "# Load the sentences\n",
    "sentences = pd.read_csv(directory + 'datasetSentences.txt', sep='\\t')\n",
    "\n",
    "# Load the dictionary\n",
    "dictionary = pd.read_csv(directory + 'dictionary.txt', sep='|', names=['phrase', 'phrase_ids'])\n",
    "\n",
    "# Load the sentiment labels\n",
    "sentiments = pd.read_csv(directory + 'sentiment_labels.txt', sep='|')\n",
    "sentiments.columns = ['phrase_ids', 'sentiment values']\n",
    "\n",
    "# Merge the dictionary with the sentiments\n",
    "dictionary = pd.merge(dictionary, sentiments, on='phrase_ids', how='inner')"
   ]
  },
  {
   "cell_type": "code",
   "execution_count": 26,
   "metadata": {},
   "outputs": [],
   "source": [
    "def label_sentiment(row):\n",
    "    if row['sentiment values'] < 0.510058:\n",
    "        return 'negative'\n",
    "    elif row['sentiment values'] < 0.526534:\n",
    "        return 'neutral'\n",
    "    else:\n",
    "        return 'positive'\n"
   ]
  },
  {
   "cell_type": "code",
   "execution_count": 27,
   "metadata": {},
   "outputs": [],
   "source": [
    "# Label sentiments for each phrase\n",
    "dictionary['sentiment'] = dictionary.apply(label_sentiment, axis=1)\n",
    "\n",
    "# Load the splits\n",
    "splits = pd.read_csv(directory + 'datasetSplit.txt', sep=',')\n",
    "splits.columns = ['sentence_index', 'splitset_label']\n",
    "#print(splits)"
   ]
  },
  {
   "cell_type": "code",
   "execution_count": 28,
   "metadata": {},
   "outputs": [
    {
     "name": "stdout",
     "output_type": "stream",
     "text": [
      "   sentence_index                                           sentence  \\\n",
      "0               1  The Rock is destined to be the 21st Century 's...   \n",
      "1               2  The gorgeously elaborate continuation of `` Th...   \n",
      "2               3                     Effective but too-tepid biopic   \n",
      "3               4  If you sometimes like to go to the movies to h...   \n",
      "4               5  Emerges as something rare , an issue movie tha...   \n",
      "\n",
      "                                              phrase  phrase_ids  \\\n",
      "0  The Rock is destined to be the 21st Century 's...      226166   \n",
      "1  The gorgeously elaborate continuation of `` Th...      226300   \n",
      "2                     Effective but too-tepid biopic       13995   \n",
      "3  If you sometimes like to go to the movies to h...       14123   \n",
      "4  Emerges as something rare , an issue movie tha...       13999   \n",
      "\n",
      "   sentiment values sentiment  splitset_label  \n",
      "0           0.69444  positive               1  \n",
      "1           0.83333  positive               1  \n",
      "2           0.51389   neutral               2  \n",
      "3           0.73611  positive               2  \n",
      "4           0.86111  positive               2  \n"
     ]
    }
   ],
   "source": [
    "# Merge the sentences DataFrame with the dictionary DataFrame on phrase/sentence\n",
    "final_data = pd.merge(sentences, dictionary, left_on='sentence', right_on='phrase', how='inner')\n",
    "\n",
    "# Then merge the final_data DataFrame with the splits DataFrame\n",
    "final_data = pd.merge(final_data, splits, on='sentence_index', how='inner')\n",
    "\n",
    "# Print the data with sentiment labels\n",
    "print(final_data.head())"
   ]
  },
  {
   "cell_type": "code",
   "execution_count": 29,
   "metadata": {},
   "outputs": [],
   "source": [
    "vectorizer = TfidfVectorizer(use_idf=True)\n",
    "X = vectorizer.fit_transform(final_data['sentence'])"
   ]
  },
  {
   "cell_type": "code",
   "execution_count": 30,
   "metadata": {},
   "outputs": [
    {
     "data": {
      "text/plain": [
       "SVC(class_weight='balanced', kernel='linear')"
      ]
     },
     "execution_count": 30,
     "metadata": {},
     "output_type": "execute_result"
    }
   ],
   "source": [
    "# Split the dataset into training and testing sets\n",
    "X_train, X_test, y_train, y_test = train_test_split(X, final_data['sentiment'], test_size=0.2, random_state=42)\n",
    "\n",
    "# Train the SVM model with class_weight='balanced'\n",
    "clf = svm.SVC(kernel='linear', class_weight='balanced')\n",
    "clf.fit(X_train, y_train)"
   ]
  },
  {
   "cell_type": "code",
   "execution_count": 31,
   "metadata": {},
   "outputs": [
    {
     "name": "stdout",
     "output_type": "stream",
     "text": [
      "              precision    recall  f1-score   support\n",
      "\n",
      "    negative       0.73      0.77      0.75      1083\n",
      "     neutral       0.00      0.00      0.00        27\n",
      "    positive       0.77      0.74      0.76      1148\n",
      "\n",
      "    accuracy                           0.75      2258\n",
      "   macro avg       0.50      0.50      0.50      2258\n",
      "weighted avg       0.74      0.75      0.74      2258\n",
      "\n"
     ]
    }
   ],
   "source": [
    "# Evaluate the model\n",
    "predictions = clf.predict(X_test)\n",
    "print(classification_report(y_test, predictions))"
   ]
  },
  {
   "cell_type": "code",
   "execution_count": 32,
   "metadata": {},
   "outputs": [
    {
     "name": "stdout",
     "output_type": "stream",
     "text": [
      "Confusion Matrix:\n",
      "[[830   1 252]\n",
      " [ 18   0   9]\n",
      " [290   3 855]]\n"
     ]
    }
   ],
   "source": [
    "# Print the confusion matrix\n",
    "cm = confusion_matrix(y_test, predictions)\n",
    "print(\"Confusion Matrix:\")\n",
    "print(cm)"
   ]
  },
  {
   "cell_type": "code",
   "execution_count": 52,
   "metadata": {},
   "outputs": [],
   "source": [
    "# Use the trained model to predict sentiment of new texts\n",
    "conversation = [\n",
    "    \"Did it hurt?\",\n",
    "    \"Did what hurt?\",\n",
    "    \"When you fell from Heaven\",\n",
    "    \"That pickup line has been done to death\",\n",
    "    \"Oh, you got me! I promise, no more cheesy pickup lines if I can buy you a beer tonight?\",\n",
    "    \"Where at?\",\n",
    "    \"Harry's is awesome. I know the bartender and she makes some killer cocktails!\",\n",
    "    \"Harry's it is\",\n",
    "    \"Pick me up at 9?\",\n",
    "    \"You bet, see you at 9 :)\",\n",
    "    \":D\",\n",
    "    \"I love you\",\n",
    "    \"I love you\",\n",
    "]"
   ]
  },
  {
   "cell_type": "code",
   "execution_count": 53,
   "metadata": {},
   "outputs": [],
   "source": [
    "# Transform sentences to vectors\n",
    "conversation_vectors = vectorizer.transform(conversation)\n",
    "\n",
    "# Predict sentiments\n",
    "predictions = clf.predict(conversation_vectors)\n",
    "\n",
    "# Map predictions to numerical values\n",
    "sentiment_mapping = {\"negative\": -1, \"neutral\": 0, \"positive\": 1}\n",
    "numerical_predictions = [sentiment_mapping[pred] for pred in predictions]\n",
    "\n",
    "# Define weights for the sentences: higher weight for recent sentences\n",
    "weights = np.arange(1, len(numerical_predictions) + 1)\n",
    "\n",
    "# Normalize the weights\n",
    "weights = weights / np.sum(weights)\n",
    "\n",
    "# Calculate the weighted mean sentiment\n",
    "mean_sentiment = np.average(numerical_predictions, weights=weights)"
   ]
  },
  {
   "cell_type": "code",
   "execution_count": 54,
   "metadata": {},
   "outputs": [
    {
     "name": "stdout",
     "output_type": "stream",
     "text": [
      "The overall sentiment of the conversation is: neutral\n"
     ]
    }
   ],
   "source": [
    "# Assign overall sentiment based on the mean\n",
    "if mean_sentiment < -2/3:\n",
    "    overall_sentiment = \"negative\"\n",
    "elif mean_sentiment < 1/3:\n",
    "    overall_sentiment = \"neutral\"\n",
    "else:\n",
    "    overall_sentiment = \"positive\"\n",
    "\n",
    "print(\"The overall sentiment of the conversation is:\", overall_sentiment)\n"
   ]
  },
  {
   "cell_type": "code",
   "execution_count": 55,
   "metadata": {},
   "outputs": [
    {
     "name": "stdout",
     "output_type": "stream",
     "text": [
      "Sentence: Did it hurt?\n",
      "Sentiment: negative\n",
      "Weight: 0.01098901098901099\n",
      "\n",
      "Sentence: Did what hurt?\n",
      "Sentiment: negative\n",
      "Weight: 0.02197802197802198\n",
      "\n",
      "Sentence: When you fell from Heaven\n",
      "Sentiment: positive\n",
      "Weight: 0.03296703296703297\n",
      "\n",
      "Sentence: That pickup line has been done to death\n",
      "Sentiment: negative\n",
      "Weight: 0.04395604395604396\n",
      "\n",
      "Sentence: Oh, you got me! I promise, no more cheesy pickup lines if I can buy you a beer tonight?\n",
      "Sentiment: negative\n",
      "Weight: 0.054945054945054944\n",
      "\n",
      "Sentence: Where at?\n",
      "Sentiment: negative\n",
      "Weight: 0.06593406593406594\n",
      "\n",
      "Sentence: Harry's is awesome. I know the bartender and she makes some killer cocktails!\n",
      "Sentiment: positive\n",
      "Weight: 0.07692307692307693\n",
      "\n",
      "Sentence: Harry's it is\n",
      "Sentiment: negative\n",
      "Weight: 0.08791208791208792\n",
      "\n",
      "Sentence: Pick me up at 9?\n",
      "Sentiment: negative\n",
      "Weight: 0.0989010989010989\n",
      "\n",
      "Sentence: You bet, see you at 9 :)\n",
      "Sentiment: positive\n",
      "Weight: 0.10989010989010989\n",
      "\n",
      "Sentence: :D\n",
      "Sentiment: negative\n",
      "Weight: 0.12087912087912088\n",
      "\n",
      "Sentence: I love you\n",
      "Sentiment: positive\n",
      "Weight: 0.13186813186813187\n",
      "\n",
      "Sentence: I love you\n",
      "Sentiment: positive\n",
      "Weight: 0.14285714285714285\n",
      "\n"
     ]
    }
   ],
   "source": [
    "# Print the individual sentiment of each line along with the weight\n",
    "for i in range(len(conversation)):\n",
    "    print(f\"Sentence: {conversation[i]}\")\n",
    "    print(f\"Sentiment: {predictions[i]}\")\n",
    "    print(f\"Weight: {weights[i]}\")\n",
    "    print()\n"
   ]
  },
  {
   "cell_type": "code",
   "execution_count": 56,
   "metadata": {},
   "outputs": [],
   "source": [
    "# Count the occurrences of each sentiment and weight them\n",
    "sentiment_counts = Counter({sentiment: numerical_predictions.count(sentiment_mapping[sentiment]) * weight for sentiment, weight in zip(predictions, weights)})\n"
   ]
  },
  {
   "cell_type": "code",
   "execution_count": 57,
   "metadata": {},
   "outputs": [
    {
     "data": {
      "image/png": "[encoded data removed]",
      "text/plain": [
       "<Figure size 720x360 with 1 Axes>"
      ]
     },
     "metadata": {
      "needs_background": "light"
     },
     "output_type": "display_data"
    }
   ],
   "source": [
    "# Create a bar plot for the sentiment counts\n",
    "plt.figure(figsize=(10, 5))\n",
    "sentiments = [\"negative\", \"neutral\", \"positive\"]\n",
    "counts = [sentiment_counts.get(sentiment, 0) for sentiment in sentiments]\n",
    "colors = ['red', 'grey', 'green']\n",
    "plt.bar(sentiments, counts, color=colors)\n",
    "plt.xlabel('Sentiments')\n",
    "plt.ylabel('Weighted Count')\n",
    "plt.title('Weighted distribution of sentiments in the conversation')\n",
    "plt.show()\n"
   ]
  },
  {
   "cell_type": "code",
   "execution_count": 58,
   "metadata": {},
   "outputs": [
    {
     "data": {
      "image/png": "[encoded data removed]",
      "text/plain": [
       "<Figure size 720x504 with 2 Axes>"
      ]
     },
     "metadata": {
      "needs_background": "light"
     },
     "output_type": "display_data"
    }
   ],
   "source": [
    "# Plot the confusion matrix\n",
    "plt.figure(figsize=(10, 7))\n",
    "sns.heatmap(cm, annot=True, fmt=\"d\")\n",
    "plt.xlabel('Predicted')\n",
    "plt.ylabel('Actual')\n",
    "plt.title('Confusion Matrix')\n",
    "plt.show()"
   ]
  }
 ],
 "metadata": {
  "kernelspec": {
   "display_name": "py_36_env",
   "language": "python",
   "name": "py_36_env"
  },
  "language_info": {
   "codemirror_mode": {
    "name": "ipython",
    "version": 3
   },
   "file_extension": ".py",
   "mimetype": "text/x-python",
   "name": "python",
   "nbconvert_exporter": "python",
   "pygments_lexer": "ipython3",
   "version": "3.7.6"
  }
 },
 "nbformat": 4,
 "nbformat_minor": 4
}
